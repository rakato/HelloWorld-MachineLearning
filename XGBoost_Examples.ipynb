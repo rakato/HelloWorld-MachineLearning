{
 "cells": [
  {
   "cell_type": "code",
   "execution_count": 1,
   "metadata": {},
   "outputs": [
    {
     "name": "stdout",
     "output_type": "stream",
     "text": [
      "Zeros and Ones from the Digits dataset: binary classification\n"
     ]
    },
    {
     "name": "stderr",
     "output_type": "stream",
     "text": [
      "C:\\Users\\ohubs\\Anaconda3\\lib\\site-packages\\sklearn\\preprocessing\\label.py:151: DeprecationWarning: The truth value of an empty array is ambiguous. Returning False, but in future this will result in an error. Use `array.size > 0` to check that an array is not empty.\n",
      "  if diff:\n",
      "C:\\Users\\ohubs\\Anaconda3\\lib\\site-packages\\sklearn\\preprocessing\\label.py:151: DeprecationWarning: The truth value of an empty array is ambiguous. Returning False, but in future this will result in an error. Use `array.size > 0` to check that an array is not empty.\n",
      "  if diff:\n",
      "C:\\Users\\ohubs\\Anaconda3\\lib\\site-packages\\sklearn\\preprocessing\\label.py:151: DeprecationWarning: The truth value of an empty array is ambiguous. Returning False, but in future this will result in an error. Use `array.size > 0` to check that an array is not empty.\n",
      "  if diff:\n",
      "C:\\Users\\ohubs\\Anaconda3\\lib\\site-packages\\sklearn\\preprocessing\\label.py:151: DeprecationWarning: The truth value of an empty array is ambiguous. Returning False, but in future this will result in an error. Use `array.size > 0` to check that an array is not empty.\n",
      "  if diff:\n"
     ]
    },
    {
     "name": "stdout",
     "output_type": "stream",
     "text": [
      "[[87  0]\n",
      " [ 1 92]]\n",
      "[[91  0]\n",
      " [ 3 86]]\n",
      "Iris: multiclass classification\n",
      "[[19  0  0]\n",
      " [ 0 31  3]\n",
      " [ 0  1 21]]\n",
      "[[31  0  0]\n",
      " [ 0 16  0]\n",
      " [ 0  3 25]]\n",
      "Boston Housing: regression\n",
      "9.862814929045339\n",
      "15.989962572880902\n",
      "Parameter optimization\n",
      "Fitting 3 folds for each of 9 candidates, totalling 27 fits\n",
      "0.5984879606490934\n",
      "{'max_depth': 4, 'n_estimators': 100}\n",
      "Pickling sklearn API models\n",
      "True\n",
      "[0]\tvalidation_0-auc:0.999497\n",
      "Will train until validation_0-auc hasn't improved in 10 rounds.\n",
      "[1]\tvalidation_0-auc:0.999497\n",
      "[2]\tvalidation_0-auc:0.999497\n",
      "[3]\tvalidation_0-auc:0.999749\n",
      "[4]\tvalidation_0-auc:0.999749\n",
      "[5]\tvalidation_0-auc:0.999749\n",
      "[6]\tvalidation_0-auc:0.999749\n",
      "[7]\tvalidation_0-auc:0.999749\n",
      "[8]\tvalidation_0-auc:0.999749\n",
      "[9]\tvalidation_0-auc:0.999749\n",
      "[10]\tvalidation_0-auc:1\n"
     ]
    },
    {
     "name": "stderr",
     "output_type": "stream",
     "text": [
      "[Parallel(n_jobs=1)]: Done  27 out of  27 | elapsed:    2.6s finished\n"
     ]
    },
    {
     "name": "stdout",
     "output_type": "stream",
     "text": [
      "[11]\tvalidation_0-auc:1\n",
      "[12]\tvalidation_0-auc:1\n",
      "[13]\tvalidation_0-auc:1\n",
      "[14]\tvalidation_0-auc:1\n",
      "[15]\tvalidation_0-auc:1\n",
      "[16]\tvalidation_0-auc:1\n",
      "[17]\tvalidation_0-auc:1\n",
      "[18]\tvalidation_0-auc:1\n",
      "[19]\tvalidation_0-auc:1\n",
      "[20]\tvalidation_0-auc:1\n",
      "Stopping. Best iteration:\n",
      "[10]\tvalidation_0-auc:1\n",
      "\n"
     ]
    },
    {
     "data": {
      "text/plain": [
       "XGBClassifier(base_score=0.5, booster='gbtree', colsample_bylevel=1,\n",
       "       colsample_bytree=1, gamma=0, learning_rate=0.1, max_delta_step=0,\n",
       "       max_depth=3, min_child_weight=1, missing=None, n_estimators=100,\n",
       "       n_jobs=1, nthread=None, objective='binary:logistic', random_state=0,\n",
       "       reg_alpha=0, reg_lambda=1, scale_pos_weight=1, seed=None,\n",
       "       silent=True, subsample=1)"
      ]
     },
     "execution_count": 1,
     "metadata": {},
     "output_type": "execute_result"
    }
   ],
   "source": [
    "import pickle\n",
    "import xgboost as xgb\n",
    "\n",
    "import numpy as np\n",
    "from sklearn.model_selection import KFold, train_test_split, GridSearchCV\n",
    "from sklearn.metrics import confusion_matrix, mean_squared_error\n",
    "from sklearn.datasets import load_iris, load_digits, load_boston\n",
    "\n",
    "rng = np.random.RandomState(31337)\n",
    "\n",
    "#Binary classification\n",
    "print(\"Zeros and Ones from the Digits dataset: binary classification\")\n",
    "digits = load_digits(2)\n",
    "y = digits['target']\n",
    "X = digits['data']\n",
    "kf = KFold(n_splits=2, shuffle=True, random_state=rng)\n",
    "for train_index, test_index in kf.split(X):\n",
    "    xgb_model = xgb.XGBClassifier().fit(X[train_index], y[train_index])\n",
    "    predictions = xgb_model.predict(X[test_index])\n",
    "    actuals = y[test_index]\n",
    "    print(confusion_matrix(actuals, predictions))\n",
    "\n",
    "    \n",
    "#Multi-variate classification\n",
    "print(\"Iris: multiclass classification\")\n",
    "iris = load_iris()\n",
    "y = iris['target']\n",
    "X = iris['data']\n",
    "kf = KFold(n_splits=2, shuffle=True, random_state=rng)\n",
    "for train_index, test_index in kf.split(X):\n",
    "    xgb_model = xgb.XGBClassifier().fit(X[train_index], y[train_index])\n",
    "    predictions = xgb_model.predict(X[test_index])\n",
    "    actuals = y[test_index]\n",
    "    print(confusion_matrix(actuals, predictions))\n",
    "\n",
    "    \n",
    "#Regression    \n",
    "print(\"Boston Housing: regression\")\n",
    "boston = load_boston()\n",
    "y = boston['target']\n",
    "X = boston['data']\n",
    "kf = KFold(n_splits=2, shuffle=True, random_state=rng)\n",
    "for train_index, test_index in kf.split(X):\n",
    "    xgb_model = xgb.XGBRegressor().fit(X[train_index], y[train_index])\n",
    "    predictions = xgb_model.predict(X[test_index])\n",
    "    actuals = y[test_index]\n",
    "    print(mean_squared_error(actuals, predictions))\n",
    "\n",
    "print(\"Parameter optimization\")\n",
    "y = boston['target']\n",
    "X = boston['data']\n",
    "xgb_model = xgb.XGBRegressor()\n",
    "clf = GridSearchCV(xgb_model,\n",
    "                   {'max_depth': [2,4,6],\n",
    "                    'n_estimators': [50,100,200]}, verbose=1)\n",
    "clf.fit(X,y)\n",
    "print(clf.best_score_)\n",
    "print(clf.best_params_)\n",
    "\n",
    "\n",
    "# The sklearn API models are picklable\n",
    "print(\"Pickling sklearn API models\")\n",
    "# must open in binary format to pickle\n",
    "pickle.dump(clf, open(\"best_boston.pkl\", \"wb\"))\n",
    "clf2 = pickle.load(open(\"best_boston.pkl\", \"rb\"))\n",
    "print(np.allclose(clf.predict(X), clf2.predict(X)))\n",
    "\n",
    "\n",
    "# Early-stopping\n",
    "X = digits['data']\n",
    "y = digits['target']\n",
    "X_train, X_test, y_train, y_test = train_test_split(X, y, random_state=0)\n",
    "clf = xgb.XGBClassifier()\n",
    "clf.fit(X_train, y_train, early_stopping_rounds=10, eval_metric=\"auc\",\n",
    "        eval_set=[(X_test, y_test)])\n"
   ]
  }
 ],
 "metadata": {
  "kernelspec": {
   "display_name": "Python 3",
   "language": "python",
   "name": "python3"
  },
  "language_info": {
   "codemirror_mode": {
    "name": "ipython",
    "version": 3
   },
   "file_extension": ".py",
   "mimetype": "text/x-python",
   "name": "python",
   "nbconvert_exporter": "python",
   "pygments_lexer": "ipython3",
   "version": "3.6.5"
  }
 },
 "nbformat": 4,
 "nbformat_minor": 2
}
